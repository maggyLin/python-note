{
  "cells": [
    {
      "cell_type": "code",
      "execution_count": null,
      "metadata": {
        "id": "h64sOyt7dNO0"
      },
      "outputs": [],
      "source": [
        "import pandas as pd\n",
        "df = pd.read_csv('https://od.cdc.gov.tw/eic/Weekly_Age_County_Gender_0749.csv')"
      ]
    },
    {
      "cell_type": "code",
      "execution_count": null,
      "metadata": {
        "colab": {
          "base_uri": "https://localhost:8080/",
          "height": 206
        },
        "id": "T1UlsMLSet6j",
        "outputId": "e08196c3-26b3-4910-b6dc-cb2a462b9c87"
      },
      "outputs": [],
      "source": [
        "df.tail()"
      ]
    },
    {
      "cell_type": "code",
      "execution_count": null,
      "metadata": {
        "colab": {
          "base_uri": "https://localhost:8080/",
          "height": 363
        },
        "id": "VnF5fQa8kl0x",
        "outputId": "30e99e97-2937-4f1b-ce88-e12b50b13512"
      },
      "outputs": [],
      "source": [
        "df.sort_values('發病週別',ascending=False).head(10)"
      ]
    },
    {
      "cell_type": "code",
      "execution_count": null,
      "metadata": {
        "colab": {
          "base_uri": "https://localhost:8080/",
          "height": 424
        },
        "id": "m23FUbnMlPxA",
        "outputId": "793f189c-7856-4bd6-81be-44513f006da0"
      },
      "outputs": [],
      "source": [
        "df.sort_values(['發病年份','發病週別'],ascending=[True,False])"
      ]
    },
    {
      "cell_type": "code",
      "execution_count": null,
      "metadata": {
        "colab": {
          "base_uri": "https://localhost:8080/",
          "height": 363
        },
        "id": "CVhwhhwJoD2e",
        "outputId": "bc4b1947-4264-4767-c5f4-1daba34d565e"
      },
      "outputs": [],
      "source": [
        "#塞選特定欄位\n",
        "df[df['縣市']=='台北市'].head(10)"
      ]
    },
    {
      "cell_type": "code",
      "execution_count": null,
      "metadata": {
        "colab": {
          "base_uri": "https://localhost:8080/",
          "height": 206
        },
        "id": "YGWGMCT9o44O",
        "outputId": "4845f406-ef27-44cd-8fb8-5ec2f0b25e9f"
      },
      "outputs": [],
      "source": [
        "df[(df['縣市']=='台北市') & (df['性別']=='M')].head(5)"
      ]
    },
    {
      "cell_type": "code",
      "execution_count": null,
      "metadata": {
        "colab": {
          "base_uri": "https://localhost:8080/",
          "height": 206
        },
        "id": "RyARg9d4pPI9",
        "outputId": "d89b96de-f755-408b-b7c4-3df7cc970054"
      },
      "outputs": [],
      "source": [
        "df[df['縣市'].isin(['台北市','台中市'])].head(5)"
      ]
    },
    {
      "cell_type": "code",
      "execution_count": null,
      "metadata": {
        "colab": {
          "base_uri": "https://localhost:8080/"
        },
        "id": "nSJHrLW8rbGU",
        "outputId": "2b2a4d97-25fe-4715-f470-73df727818c8"
      },
      "outputs": [],
      "source": [
        "#群組統計\n",
        "df.groupby('縣市')['確定病例數'].sum()"
      ]
    },
    {
      "cell_type": "code",
      "execution_count": null,
      "metadata": {
        "colab": {
          "base_uri": "https://localhost:8080/",
          "height": 394
        },
        "id": "wL64Wheqr9k8",
        "outputId": "bfe1576f-05da-4d6c-a03f-82a3f9442bcc"
      },
      "outputs": [],
      "source": [
        "df.groupby('年齡層')['確定病例數'].agg(['sum','count','max','mean'])"
      ]
    },
    {
      "cell_type": "code",
      "execution_count": null,
      "metadata": {
        "colab": {
          "base_uri": "https://localhost:8080/",
          "height": 304
        },
        "id": "48QLK6_qsrRy",
        "outputId": "76c3fe69-61ea-4085-8f98-0813dceda8dc"
      },
      "outputs": [],
      "source": [
        "#圖表統計\n",
        "# import matplotlib\n",
        "# print(matplotlib.matplotlib_fname())\n",
        "\n",
        "\n",
        "import matplotlib.pyplot as plt\n",
        "plt.rcParams['font.sans-serif'] = ['Microsoft JhengHei']\n",
        "df.groupby('縣市')['確定病例數'].sum().plot(kind='bar')"
      ]
    },
    {
      "cell_type": "code",
      "execution_count": null,
      "metadata": {},
      "outputs": [],
      "source": [
        "plt.rcParams['font.sans-serif']"
      ]
    }
  ],
  "metadata": {
    "colab": {
      "collapsed_sections": [],
      "provenance": []
    },
    "interpreter": {
      "hash": "907cd12e6f819ff6f816c3f132e59f9eda0f1fe0c2c2aff9a663dd3c987e2c75"
    },
    "kernelspec": {
      "display_name": "Python 3.8.6 64-bit",
      "language": "python",
      "name": "python3"
    },
    "language_info": {
      "codemirror_mode": {
        "name": "ipython",
        "version": 3
      },
      "file_extension": ".py",
      "mimetype": "text/x-python",
      "name": "python",
      "nbconvert_exporter": "python",
      "pygments_lexer": "ipython3",
      "version": "3.8.6"
    }
  },
  "nbformat": 4,
  "nbformat_minor": 0
}
